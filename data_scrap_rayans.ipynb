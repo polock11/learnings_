{
  "nbformat": 4,
  "nbformat_minor": 0,
  "metadata": {
    "colab": {
      "provenance": [],
      "authorship_tag": "ABX9TyNBua2KVuVukd3NhwmSZjmt",
      "include_colab_link": true
    },
    "kernelspec": {
      "name": "python3",
      "display_name": "Python 3"
    },
    "language_info": {
      "name": "python"
    }
  },
  "cells": [
    {
      "cell_type": "markdown",
      "metadata": {
        "id": "view-in-github",
        "colab_type": "text"
      },
      "source": [
        "<a href=\"https://colab.research.google.com/github/polock11/learnings_/blob/main/data_scrap_rayans.ipynb\" target=\"_parent\"><img src=\"https://colab.research.google.com/assets/colab-badge.svg\" alt=\"Open In Colab\"/></a>"
      ]
    },
    {
      "cell_type": "code",
      "execution_count": 1,
      "metadata": {
        "id": "Fbl6RD9bQXGr"
      },
      "outputs": [],
      "source": [
        "from bs4 import BeautifulSoup\n",
        "import requests\n",
        "import pandas as pd\n"
      ]
    },
    {
      "cell_type": "code",
      "source": [
        "url = 'https://www.ryanscomputers.com/category/laptop-all-laptop?limit=400&osp=1&st=0'\n",
        "\n",
        "page = requests.get(url)\n",
        "\n",
        "soup = BeautifulSoup(page.text, 'html')"
      ],
      "metadata": {
        "id": "3lhoT2y8QhKR"
      },
      "execution_count": 2,
      "outputs": []
    },
    {
      "cell_type": "code",
      "source": [
        "#divs = soup.find_all(\"div\", {\"class\":\"grid-container grid-view-category list-view-mobile mt-1 mb-2\"})\n",
        "divs = soup.find_all(\"div\", {\"class\":\"card-body text-center\"})"
      ],
      "metadata": {
        "id": "YtHlsBjFQt-T"
      },
      "execution_count": 26,
      "outputs": []
    },
    {
      "cell_type": "markdown",
      "source": [
        "## Laptop name"
      ],
      "metadata": {
        "id": "AgkoVq8KhAPz"
      }
    },
    {
      "cell_type": "code",
      "source": [
        "p_class = soup.find_all('p',{'class':'card-text p-0 m-0 list-view-text'})"
      ],
      "metadata": {
        "id": "stXrWAcqboT9"
      },
      "execution_count": 41,
      "outputs": []
    },
    {
      "cell_type": "code",
      "source": [
        "laptop_name = [name.text.strip() for name in p_class]\n",
        "laptop_name"
      ],
      "metadata": {
        "id": "qb2Q9N5Ib9qY"
      },
      "execution_count": null,
      "outputs": []
    },
    {
      "cell_type": "markdown",
      "source": [
        "##Description"
      ],
      "metadata": {
        "id": "b0xr0kAXhE2O"
      }
    },
    {
      "cell_type": "code",
      "source": [
        "description = soup.find_all(\"div\", {\"class\":\"short-desc-attr\"})"
      ],
      "metadata": {
        "id": "pscefoIXcfum"
      },
      "execution_count": 52,
      "outputs": []
    },
    {
      "cell_type": "code",
      "source": [
        "des = [des.text.strip().replace('\\n',',') for des in description]\n",
        "des"
      ],
      "metadata": {
        "id": "KARN9bjKduc4"
      },
      "execution_count": null,
      "outputs": []
    },
    {
      "cell_type": "markdown",
      "source": [
        "##Price"
      ],
      "metadata": {
        "id": "Bh3e2XKUhIAU"
      }
    },
    {
      "cell_type": "code",
      "source": [
        "main_price = soup.find_all(\"p\", {\"class\":\"pr-text cat-sp-text pb-1\"})"
      ],
      "metadata": {
        "id": "oK2VP_aPeshb"
      },
      "execution_count": 73,
      "outputs": []
    },
    {
      "cell_type": "code",
      "source": [
        "main_price = [price.text for price in main_price]\n",
        "main_price"
      ],
      "metadata": {
        "id": "cfrAhaXTe61u"
      },
      "execution_count": null,
      "outputs": []
    },
    {
      "cell_type": "markdown",
      "source": [
        "##Link"
      ],
      "metadata": {
        "id": "xbt7YyEUhKpl"
      }
    },
    {
      "cell_type": "code",
      "source": [
        "links = soup.find_all(\"p\", {\"class\":\"card-text p-0 m-0 list-view-text\"})"
      ],
      "metadata": {
        "id": "MVb1DGZVhMeN"
      },
      "execution_count": 92,
      "outputs": []
    },
    {
      "cell_type": "code",
      "source": [
        "links = [link.a['href'] for link in links]\n",
        "links"
      ],
      "metadata": {
        "id": "zpWY7-SfhWfN"
      },
      "execution_count": null,
      "outputs": []
    },
    {
      "cell_type": "markdown",
      "source": [
        "##Data Frame\n"
      ],
      "metadata": {
        "id": "BiDFJnyqkuyU"
      }
    },
    {
      "cell_type": "code",
      "source": [
        "df = pd.DataFrame({'laptop_name': laptop_name, 'description': des, 'price': main_price, 'url': links})\n",
        "df.to_csv('RAYANS_laptop_data_dec_2023.csv')"
      ],
      "metadata": {
        "id": "_CBFIQ0hlB8V"
      },
      "execution_count": 99,
      "outputs": []
    },
    {
      "cell_type": "code",
      "source": [
        "df"
      ],
      "metadata": {
        "colab": {
          "base_uri": "https://localhost:8080/",
          "height": 423
        },
        "id": "jKAZrc5srtP9",
        "outputId": "601edfa8-6008-48f7-effe-3988ab0f9e42"
      },
      "execution_count": 100,
      "outputs": [
        {
          "output_type": "execute_result",
          "data": {
            "text/plain": [
              "                                           laptop_name  \\\n",
              "0    HP 15s-fq3617TU Intel CDC N4500 4GB RAM 256GB ...   \n",
              "1    HP 15s-eq1578AU AMD Athlon Silver 3050U 8GB 25...   \n",
              "2    Lenovo IdeaPad 1 15ADA7 AMD Ryzen 3 3250U 8GB ...   \n",
              "3    Lenovo IdeaPad Slim 3i 15ITL 11th Gen Intel Co...   \n",
              "4    Dell Inspiron 15 3515 AMD Ryzen 3 3250U 8GB RA...   \n",
              "..                                                 ...   \n",
              "353  Apple MacBook Pro (2023) Apple M2 Max Chip 32G...   \n",
              "354  Apple Macbook Pro (Early 2023) Apple M2 Max Ch...   \n",
              "355  Apple Macbook Pro (Late 2023) Apple M3 Max 48G...   \n",
              "356  Apple Macbook Pro (Late 2023) Apple M3 Max 48G...   \n",
              "357  Apple MacBook Pro (Early 2023) Apple M2 Max Ch...   \n",
              "\n",
              "                                           description  \\\n",
              "0    Processor Type. - Intel Celeron,Generation - N...   \n",
              "1    Processor Type. - AMD Athlon,Generation - Not ...   \n",
              "2    Processor Type. - Ryzen 3,Generation - Not App...   \n",
              "3    Processor Type. - Core i3,Generation - 11th (I...   \n",
              "4    Processor Type. - Ryzen 3,Generation - Not App...   \n",
              "..                                                 ...   \n",
              "353  Processor Type. - Apple M2,Generation - Not Ap...   \n",
              "354  Processor Type. - Apple M2,Generation - Not Ap...   \n",
              "355  Processor Type. - Apple M3,Generation - Not Ap...   \n",
              "356  Processor Type. - Apple M3,Generation - Not Ap...   \n",
              "357  Processor Type. - Apple M2,Generation - Not Ap...   \n",
              "\n",
              "                      price                                                url  \n",
              "0         Tk 42,500 43,500   https://www.ryanscomputers.com/hp-15s-fq3617tu...  \n",
              "1         Tk 47,500 48,900   https://www.ryanscomputers.com/hp-15s-eq1578au...  \n",
              "2                Tk 49,900   https://www.ryanscomputers.com/lenovo-ideapad-...  \n",
              "3                Tk 51,400   https://www.ryanscomputers.com/lenovo-ideapad-...  \n",
              "4                Tk 51,500   https://www.ryanscomputers.com/dell-inspiron-1...  \n",
              "..                      ...                                                ...  \n",
              "353  Tk 465,000 (Estimated)  https://www.ryanscomputers.com/apple-macbook-p...  \n",
              "354  Tk 495,000 (Estimated)  https://www.ryanscomputers.com/apple-macbook-p...  \n",
              "355  Tk 525,000 (Estimated)  https://www.ryanscomputers.com/apple-macbook-p...  \n",
              "356  Tk 538,000 (Estimated)  https://www.ryanscomputers.com/apple-macbook-p...  \n",
              "357  Tk 640,000 (Estimated)  https://www.ryanscomputers.com/apple-macbook-p...  \n",
              "\n",
              "[358 rows x 4 columns]"
            ],
            "text/html": [
              "\n",
              "  <div id=\"df-8114e0f3-0959-4356-9a71-d4b8fa610abf\" class=\"colab-df-container\">\n",
              "    <div>\n",
              "<style scoped>\n",
              "    .dataframe tbody tr th:only-of-type {\n",
              "        vertical-align: middle;\n",
              "    }\n",
              "\n",
              "    .dataframe tbody tr th {\n",
              "        vertical-align: top;\n",
              "    }\n",
              "\n",
              "    .dataframe thead th {\n",
              "        text-align: right;\n",
              "    }\n",
              "</style>\n",
              "<table border=\"1\" class=\"dataframe\">\n",
              "  <thead>\n",
              "    <tr style=\"text-align: right;\">\n",
              "      <th></th>\n",
              "      <th>laptop_name</th>\n",
              "      <th>description</th>\n",
              "      <th>price</th>\n",
              "      <th>url</th>\n",
              "    </tr>\n",
              "  </thead>\n",
              "  <tbody>\n",
              "    <tr>\n",
              "      <th>0</th>\n",
              "      <td>HP 15s-fq3617TU Intel CDC N4500 4GB RAM 256GB ...</td>\n",
              "      <td>Processor Type. - Intel Celeron,Generation - N...</td>\n",
              "      <td>Tk 42,500 43,500</td>\n",
              "      <td>https://www.ryanscomputers.com/hp-15s-fq3617tu...</td>\n",
              "    </tr>\n",
              "    <tr>\n",
              "      <th>1</th>\n",
              "      <td>HP 15s-eq1578AU AMD Athlon Silver 3050U 8GB 25...</td>\n",
              "      <td>Processor Type. - AMD Athlon,Generation - Not ...</td>\n",
              "      <td>Tk 47,500 48,900</td>\n",
              "      <td>https://www.ryanscomputers.com/hp-15s-eq1578au...</td>\n",
              "    </tr>\n",
              "    <tr>\n",
              "      <th>2</th>\n",
              "      <td>Lenovo IdeaPad 1 15ADA7 AMD Ryzen 3 3250U 8GB ...</td>\n",
              "      <td>Processor Type. - Ryzen 3,Generation - Not App...</td>\n",
              "      <td>Tk 49,900</td>\n",
              "      <td>https://www.ryanscomputers.com/lenovo-ideapad-...</td>\n",
              "    </tr>\n",
              "    <tr>\n",
              "      <th>3</th>\n",
              "      <td>Lenovo IdeaPad Slim 3i 15ITL 11th Gen Intel Co...</td>\n",
              "      <td>Processor Type. - Core i3,Generation - 11th (I...</td>\n",
              "      <td>Tk 51,400</td>\n",
              "      <td>https://www.ryanscomputers.com/lenovo-ideapad-...</td>\n",
              "    </tr>\n",
              "    <tr>\n",
              "      <th>4</th>\n",
              "      <td>Dell Inspiron 15 3515 AMD Ryzen 3 3250U 8GB RA...</td>\n",
              "      <td>Processor Type. - Ryzen 3,Generation - Not App...</td>\n",
              "      <td>Tk 51,500</td>\n",
              "      <td>https://www.ryanscomputers.com/dell-inspiron-1...</td>\n",
              "    </tr>\n",
              "    <tr>\n",
              "      <th>...</th>\n",
              "      <td>...</td>\n",
              "      <td>...</td>\n",
              "      <td>...</td>\n",
              "      <td>...</td>\n",
              "    </tr>\n",
              "    <tr>\n",
              "      <th>353</th>\n",
              "      <td>Apple MacBook Pro (2023) Apple M2 Max Chip 32G...</td>\n",
              "      <td>Processor Type. - Apple M2,Generation - Not Ap...</td>\n",
              "      <td>Tk 465,000 (Estimated)</td>\n",
              "      <td>https://www.ryanscomputers.com/apple-macbook-p...</td>\n",
              "    </tr>\n",
              "    <tr>\n",
              "      <th>354</th>\n",
              "      <td>Apple Macbook Pro (Early 2023) Apple M2 Max Ch...</td>\n",
              "      <td>Processor Type. - Apple M2,Generation - Not Ap...</td>\n",
              "      <td>Tk 495,000 (Estimated)</td>\n",
              "      <td>https://www.ryanscomputers.com/apple-macbook-p...</td>\n",
              "    </tr>\n",
              "    <tr>\n",
              "      <th>355</th>\n",
              "      <td>Apple Macbook Pro (Late 2023) Apple M3 Max 48G...</td>\n",
              "      <td>Processor Type. - Apple M3,Generation - Not Ap...</td>\n",
              "      <td>Tk 525,000 (Estimated)</td>\n",
              "      <td>https://www.ryanscomputers.com/apple-macbook-p...</td>\n",
              "    </tr>\n",
              "    <tr>\n",
              "      <th>356</th>\n",
              "      <td>Apple Macbook Pro (Late 2023) Apple M3 Max 48G...</td>\n",
              "      <td>Processor Type. - Apple M3,Generation - Not Ap...</td>\n",
              "      <td>Tk 538,000 (Estimated)</td>\n",
              "      <td>https://www.ryanscomputers.com/apple-macbook-p...</td>\n",
              "    </tr>\n",
              "    <tr>\n",
              "      <th>357</th>\n",
              "      <td>Apple MacBook Pro (Early 2023) Apple M2 Max Ch...</td>\n",
              "      <td>Processor Type. - Apple M2,Generation - Not Ap...</td>\n",
              "      <td>Tk 640,000 (Estimated)</td>\n",
              "      <td>https://www.ryanscomputers.com/apple-macbook-p...</td>\n",
              "    </tr>\n",
              "  </tbody>\n",
              "</table>\n",
              "<p>358 rows × 4 columns</p>\n",
              "</div>\n",
              "    <div class=\"colab-df-buttons\">\n",
              "\n",
              "  <div class=\"colab-df-container\">\n",
              "    <button class=\"colab-df-convert\" onclick=\"convertToInteractive('df-8114e0f3-0959-4356-9a71-d4b8fa610abf')\"\n",
              "            title=\"Convert this dataframe to an interactive table.\"\n",
              "            style=\"display:none;\">\n",
              "\n",
              "  <svg xmlns=\"http://www.w3.org/2000/svg\" height=\"24px\" viewBox=\"0 -960 960 960\">\n",
              "    <path d=\"M120-120v-720h720v720H120Zm60-500h600v-160H180v160Zm220 220h160v-160H400v160Zm0 220h160v-160H400v160ZM180-400h160v-160H180v160Zm440 0h160v-160H620v160ZM180-180h160v-160H180v160Zm440 0h160v-160H620v160Z\"/>\n",
              "  </svg>\n",
              "    </button>\n",
              "\n",
              "  <style>\n",
              "    .colab-df-container {\n",
              "      display:flex;\n",
              "      gap: 12px;\n",
              "    }\n",
              "\n",
              "    .colab-df-convert {\n",
              "      background-color: #E8F0FE;\n",
              "      border: none;\n",
              "      border-radius: 50%;\n",
              "      cursor: pointer;\n",
              "      display: none;\n",
              "      fill: #1967D2;\n",
              "      height: 32px;\n",
              "      padding: 0 0 0 0;\n",
              "      width: 32px;\n",
              "    }\n",
              "\n",
              "    .colab-df-convert:hover {\n",
              "      background-color: #E2EBFA;\n",
              "      box-shadow: 0px 1px 2px rgba(60, 64, 67, 0.3), 0px 1px 3px 1px rgba(60, 64, 67, 0.15);\n",
              "      fill: #174EA6;\n",
              "    }\n",
              "\n",
              "    .colab-df-buttons div {\n",
              "      margin-bottom: 4px;\n",
              "    }\n",
              "\n",
              "    [theme=dark] .colab-df-convert {\n",
              "      background-color: #3B4455;\n",
              "      fill: #D2E3FC;\n",
              "    }\n",
              "\n",
              "    [theme=dark] .colab-df-convert:hover {\n",
              "      background-color: #434B5C;\n",
              "      box-shadow: 0px 1px 3px 1px rgba(0, 0, 0, 0.15);\n",
              "      filter: drop-shadow(0px 1px 2px rgba(0, 0, 0, 0.3));\n",
              "      fill: #FFFFFF;\n",
              "    }\n",
              "  </style>\n",
              "\n",
              "    <script>\n",
              "      const buttonEl =\n",
              "        document.querySelector('#df-8114e0f3-0959-4356-9a71-d4b8fa610abf button.colab-df-convert');\n",
              "      buttonEl.style.display =\n",
              "        google.colab.kernel.accessAllowed ? 'block' : 'none';\n",
              "\n",
              "      async function convertToInteractive(key) {\n",
              "        const element = document.querySelector('#df-8114e0f3-0959-4356-9a71-d4b8fa610abf');\n",
              "        const dataTable =\n",
              "          await google.colab.kernel.invokeFunction('convertToInteractive',\n",
              "                                                    [key], {});\n",
              "        if (!dataTable) return;\n",
              "\n",
              "        const docLinkHtml = 'Like what you see? Visit the ' +\n",
              "          '<a target=\"_blank\" href=https://colab.research.google.com/notebooks/data_table.ipynb>data table notebook</a>'\n",
              "          + ' to learn more about interactive tables.';\n",
              "        element.innerHTML = '';\n",
              "        dataTable['output_type'] = 'display_data';\n",
              "        await google.colab.output.renderOutput(dataTable, element);\n",
              "        const docLink = document.createElement('div');\n",
              "        docLink.innerHTML = docLinkHtml;\n",
              "        element.appendChild(docLink);\n",
              "      }\n",
              "    </script>\n",
              "  </div>\n",
              "\n",
              "\n",
              "<div id=\"df-73bf7a91-86b9-4cd3-be41-198e6b08c6bf\">\n",
              "  <button class=\"colab-df-quickchart\" onclick=\"quickchart('df-73bf7a91-86b9-4cd3-be41-198e6b08c6bf')\"\n",
              "            title=\"Suggest charts\"\n",
              "            style=\"display:none;\">\n",
              "\n",
              "<svg xmlns=\"http://www.w3.org/2000/svg\" height=\"24px\"viewBox=\"0 0 24 24\"\n",
              "     width=\"24px\">\n",
              "    <g>\n",
              "        <path d=\"M19 3H5c-1.1 0-2 .9-2 2v14c0 1.1.9 2 2 2h14c1.1 0 2-.9 2-2V5c0-1.1-.9-2-2-2zM9 17H7v-7h2v7zm4 0h-2V7h2v10zm4 0h-2v-4h2v4z\"/>\n",
              "    </g>\n",
              "</svg>\n",
              "  </button>\n",
              "\n",
              "<style>\n",
              "  .colab-df-quickchart {\n",
              "      --bg-color: #E8F0FE;\n",
              "      --fill-color: #1967D2;\n",
              "      --hover-bg-color: #E2EBFA;\n",
              "      --hover-fill-color: #174EA6;\n",
              "      --disabled-fill-color: #AAA;\n",
              "      --disabled-bg-color: #DDD;\n",
              "  }\n",
              "\n",
              "  [theme=dark] .colab-df-quickchart {\n",
              "      --bg-color: #3B4455;\n",
              "      --fill-color: #D2E3FC;\n",
              "      --hover-bg-color: #434B5C;\n",
              "      --hover-fill-color: #FFFFFF;\n",
              "      --disabled-bg-color: #3B4455;\n",
              "      --disabled-fill-color: #666;\n",
              "  }\n",
              "\n",
              "  .colab-df-quickchart {\n",
              "    background-color: var(--bg-color);\n",
              "    border: none;\n",
              "    border-radius: 50%;\n",
              "    cursor: pointer;\n",
              "    display: none;\n",
              "    fill: var(--fill-color);\n",
              "    height: 32px;\n",
              "    padding: 0;\n",
              "    width: 32px;\n",
              "  }\n",
              "\n",
              "  .colab-df-quickchart:hover {\n",
              "    background-color: var(--hover-bg-color);\n",
              "    box-shadow: 0 1px 2px rgba(60, 64, 67, 0.3), 0 1px 3px 1px rgba(60, 64, 67, 0.15);\n",
              "    fill: var(--button-hover-fill-color);\n",
              "  }\n",
              "\n",
              "  .colab-df-quickchart-complete:disabled,\n",
              "  .colab-df-quickchart-complete:disabled:hover {\n",
              "    background-color: var(--disabled-bg-color);\n",
              "    fill: var(--disabled-fill-color);\n",
              "    box-shadow: none;\n",
              "  }\n",
              "\n",
              "  .colab-df-spinner {\n",
              "    border: 2px solid var(--fill-color);\n",
              "    border-color: transparent;\n",
              "    border-bottom-color: var(--fill-color);\n",
              "    animation:\n",
              "      spin 1s steps(1) infinite;\n",
              "  }\n",
              "\n",
              "  @keyframes spin {\n",
              "    0% {\n",
              "      border-color: transparent;\n",
              "      border-bottom-color: var(--fill-color);\n",
              "      border-left-color: var(--fill-color);\n",
              "    }\n",
              "    20% {\n",
              "      border-color: transparent;\n",
              "      border-left-color: var(--fill-color);\n",
              "      border-top-color: var(--fill-color);\n",
              "    }\n",
              "    30% {\n",
              "      border-color: transparent;\n",
              "      border-left-color: var(--fill-color);\n",
              "      border-top-color: var(--fill-color);\n",
              "      border-right-color: var(--fill-color);\n",
              "    }\n",
              "    40% {\n",
              "      border-color: transparent;\n",
              "      border-right-color: var(--fill-color);\n",
              "      border-top-color: var(--fill-color);\n",
              "    }\n",
              "    60% {\n",
              "      border-color: transparent;\n",
              "      border-right-color: var(--fill-color);\n",
              "    }\n",
              "    80% {\n",
              "      border-color: transparent;\n",
              "      border-right-color: var(--fill-color);\n",
              "      border-bottom-color: var(--fill-color);\n",
              "    }\n",
              "    90% {\n",
              "      border-color: transparent;\n",
              "      border-bottom-color: var(--fill-color);\n",
              "    }\n",
              "  }\n",
              "</style>\n",
              "\n",
              "  <script>\n",
              "    async function quickchart(key) {\n",
              "      const quickchartButtonEl =\n",
              "        document.querySelector('#' + key + ' button');\n",
              "      quickchartButtonEl.disabled = true;  // To prevent multiple clicks.\n",
              "      quickchartButtonEl.classList.add('colab-df-spinner');\n",
              "      try {\n",
              "        const charts = await google.colab.kernel.invokeFunction(\n",
              "            'suggestCharts', [key], {});\n",
              "      } catch (error) {\n",
              "        console.error('Error during call to suggestCharts:', error);\n",
              "      }\n",
              "      quickchartButtonEl.classList.remove('colab-df-spinner');\n",
              "      quickchartButtonEl.classList.add('colab-df-quickchart-complete');\n",
              "    }\n",
              "    (() => {\n",
              "      let quickchartButtonEl =\n",
              "        document.querySelector('#df-73bf7a91-86b9-4cd3-be41-198e6b08c6bf button');\n",
              "      quickchartButtonEl.style.display =\n",
              "        google.colab.kernel.accessAllowed ? 'block' : 'none';\n",
              "    })();\n",
              "  </script>\n",
              "</div>\n",
              "    </div>\n",
              "  </div>\n"
            ]
          },
          "metadata": {},
          "execution_count": 100
        }
      ]
    }
  ]
}